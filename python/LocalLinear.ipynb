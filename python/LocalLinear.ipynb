{
 "cells": [
  {
   "cell_type": "code",
   "execution_count": 1,
   "metadata": {},
   "outputs": [],
   "source": [
    "import numpy as np\n",
    "import matplotlib.pyplot as plt\n",
    "from   numpy.linalg import pinv\n",
    "from   sklearn import model_selection\n",
    "from   functools import partial\n",
    "\n",
    "%matplotlib inline"
   ]
  },
  {
   "cell_type": "code",
   "execution_count": 2,
   "metadata": {},
   "outputs": [],
   "source": [
    "plt.style.use(\"dark_background\")"
   ]
  },
  {
   "cell_type": "code",
   "execution_count": 4,
   "metadata": {},
   "outputs": [],
   "source": [
    "def f(x):\n",
    "    return 3 * np.cos( x / 2.0) + x ** 2.0 / 5 + 3"
   ]
  },
  {
   "cell_type": "code",
   "execution_count": 5,
   "metadata": {},
   "outputs": [],
   "source": [
    "def gaussian_kernel(x):\n",
    "    pdf_const = 1 / np.sqrt( 2.0 * np.pi )\n",
    "    return pdf_const * np.exp( - 0.5 * x ** 2 )"
   ]
  },
  {
   "cell_type": "code",
   "execution_count": 12,
   "metadata": {},
   "outputs": [],
   "source": [
    "x_in = np.loadtxt(\"./xin\")\n",
    "y_in = np.loadtxt(\"./yin\")"
   ]
  },
  {
   "cell_type": "code",
   "execution_count": 17,
   "metadata": {},
   "outputs": [
    {
     "data": {
      "image/png": "[encoded data removed]",
      "text/plain": [
       "<Figure size 432x288 with 1 Axes>"
      ]
     },
     "metadata": {},
     "output_type": "display_data"
    }
   ],
   "source": [
    "plt.figure()\n",
    "plt.scatter(x=x_in, y=y_in, alpha=0.5)\n",
    "plt.show()"
   ]
  },
  {
   "cell_type": "code",
   "execution_count": 32,
   "metadata": {},
   "outputs": [],
   "source": [
    "def split_train_test(x, y, folds):\n",
    "    if len(x) != len(y):\n",
    "        raise ValueError(\"X and Y Should have same length\")\n",
    "    num_test = int(len(x) / float(folds)) \n",
    "    num_train = len(x) - num_test\n",
    "    print(num_test, num_train)\n",
    "    indices = np.random.permutation(x.shape[0])\n",
    "    training_idx, test_idx = indices[:num_train], indices[num_train:]\n",
    "    return x[training_idx], x[test_idx], y[training_idx], y[test_idx]"
   ]
  },
  {
   "cell_type": "code",
   "execution_count": 51,
   "metadata": {},
   "outputs": [],
   "source": [
    "def split_k_fold(x, y, folds):\n",
    "    if len(x) != len(y):\n",
    "        raise ValueError(\"X and Y Should have same length\")\n",
    "    indices = np.arange(len(x))\n",
    "    np.random.shuffle(indices)\n",
    "    split_size = len(x) / folds\n",
    "    return np.array([x[n * split_size:(n + 1) * split_size] for n in np.arange(folds)]), np.array(\n",
    "        [y[n * split_size:(n + 1) * split_size] for n in np.arange(folds)])"
   ]
  },
  {
   "cell_type": "code",
   "execution_count": 52,
   "metadata": {},
   "outputs": [],
   "source": [
    "x_splits, y_splits = split_k_fold(x_in, y_in, 10)"
   ]
  },
  {
   "cell_type": "code",
   "execution_count": 59,
   "metadata": {},
   "outputs": [],
   "source": [
    "num_folds = 10"
   ]
  },
  {
   "cell_type": "code",
   "execution_count": 64,
   "metadata": {},
   "outputs": [
    {
     "name": "stdout",
     "output_type": "stream",
     "text": [
      "(0, array([1, 2, 3, 4, 5, 6, 7, 8, 9]), 900, 100)\n",
      "(1, array([0, 2, 3, 4, 5, 6, 7, 8, 9]), 900, 100)\n",
      "(2, array([0, 1, 3, 4, 5, 6, 7, 8, 9]), 900, 100)\n",
      "(3, array([0, 1, 2, 4, 5, 6, 7, 8, 9]), 900, 100)\n",
      "(4, array([0, 1, 2, 3, 5, 6, 7, 8, 9]), 900, 100)\n",
      "(5, array([0, 1, 2, 3, 4, 6, 7, 8, 9]), 900, 100)\n",
      "(6, array([0, 1, 2, 3, 4, 5, 7, 8, 9]), 900, 100)\n",
      "(7, array([0, 1, 2, 3, 4, 5, 6, 8, 9]), 900, 100)\n",
      "(8, array([0, 1, 2, 3, 4, 5, 6, 7, 9]), 900, 100)\n",
      "(9, array([0, 1, 2, 3, 4, 5, 6, 7, 8]), 900, 100)\n"
     ]
    }
   ],
   "source": [
    "fold_indices = np.arange(num_folds)\n",
    "for idx in fold_indices:\n",
    "    test_idx = idx\n",
    "    train_idx = np.setdiff1d(fold_indices, [idx])\n",
    "    train_x, test_x, train_y, test_y = (np.concatenate(x_splits[train_idx]), \n",
    "                                        x_splits[test_idx], \n",
    "                                        np.concatenate(y_splits[train_idx]), \n",
    "                                        y_splits[test_idx])\n",
    "    print(test_idx, train_idx, len(train_x), len(test_x))"
   ]
  },
  {
   "cell_type": "code",
   "execution_count": null,
   "metadata": {},
   "outputs": [],
   "source": []
  }
 ],
 "metadata": {
  "kernelspec": {
   "display_name": "Python 2",
   "language": "python",
   "name": "python2"
  },
  "language_info": {
   "codemirror_mode": {
    "name": "ipython",
    "version": 2
   },
   "file_extension": ".py",
   "mimetype": "text/x-python",
   "name": "python",
   "nbconvert_exporter": "python",
   "pygments_lexer": "ipython2",
   "version": "2.7.15"
  }
 },
 "nbformat": 4,
 "nbformat_minor": 2
}

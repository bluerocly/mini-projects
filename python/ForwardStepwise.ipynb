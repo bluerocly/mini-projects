{
 "cells": [
  {
   "cell_type": "code",
   "execution_count": 2,
   "metadata": {},
   "outputs": [],
   "source": [
    "import numpy as np\n",
    "import matplotlib.pyplot as plt\n",
    "from scipy.linalg import solve_triangular\n",
    "\n",
    "%matplotlib inline"
   ]
  },
  {
   "cell_type": "code",
   "execution_count": 3,
   "metadata": {},
   "outputs": [],
   "source": [
    "plt.style.use(\"dark_background\")"
   ]
  },
  {
   "cell_type": "code",
   "execution_count": 4,
   "metadata": {},
   "outputs": [],
   "source": [
    "xx = np.loadtxt(\"./xx\", delimiter=\",\")\n",
    "xy = np.loadtxt(\"./xy\", delimiter=\",\")"
   ]
  },
  {
   "cell_type": "code",
   "execution_count": 19,
   "metadata": {},
   "outputs": [],
   "source": [
    "xx_inv = np.linalg.inv(xx)"
   ]
  },
  {
   "cell_type": "code",
   "execution_count": 11,
   "metadata": {},
   "outputs": [
    {
     "data": {
      "text/plain": [
       "array([ -10.01219782, -239.81908937,  519.83978679,  324.39042769, -792.18416163,  476.74583782,  101.04457032,  177.06417623,  751.27932109,   67.62538639])"
      ]
     },
     "execution_count": 11,
     "metadata": {},
     "output_type": "execute_result"
    }
   ],
   "source": [
    "np.linalg.inv(xx).dot(xy)"
   ]
  },
  {
   "cell_type": "code",
   "execution_count": 13,
   "metadata": {},
   "outputs": [],
   "source": [
    "def subset_regression(xx_in, xy_in, indices):\n",
    "    xx_filtered = np.take(np.take(xx_in, indices, axis=1), indices, axis=0)\n",
    "    xy_filtered = np.take(xy_in, indices)\n",
    "    R = np.linalg.cholesky(xx_filtered)\n",
    "    w = solve_triangular(a=R, b=xy_filtered, lower=True)\n",
    "    return solve_triangular(R.T, w)"
   ]
  },
  {
   "cell_type": "code",
   "execution_count": 14,
   "metadata": {},
   "outputs": [
    {
     "data": {
      "text/plain": [
       "array([ 793.37025259, -298.62467051,  565.61878285])"
      ]
     },
     "execution_count": 14,
     "metadata": {},
     "output_type": "execute_result"
    }
   ],
   "source": [
    "subset_regression(xx, xy, [2, 5, 7])"
   ]
  },
  {
   "cell_type": "code",
   "execution_count": 17,
   "metadata": {},
   "outputs": [],
   "source": [
    "num_features = len(xy)"
   ]
  },
  {
   "cell_type": "code",
   "execution_count": 18,
   "metadata": {},
   "outputs": [
    {
     "name": "stdout",
     "output_type": "stream",
     "text": [
      "[304.18307453]\n",
      "[69.71535568]\n",
      "[949.43526038]\n",
      "[714.7416437]\n",
      "[343.25445189]\n",
      "[281.78459335]\n",
      "[-639.14527932]\n",
      "[696.88303009]\n",
      "[916.13872282]\n",
      "[619.22282068]\n"
     ]
    }
   ],
   "source": [
    "for feature in range(num_features):\n",
    "    betas = subset_regression(xx, xy, [feature])\n",
    "    "
   ]
  },
  {
   "cell_type": "code",
   "execution_count": null,
   "metadata": {},
   "outputs": [],
   "source": []
  }
 ],
 "metadata": {
  "kernelspec": {
   "display_name": "Python 3",
   "language": "python",
   "name": "python3"
  },
  "language_info": {
   "codemirror_mode": {
    "name": "ipython",
    "version": 3
   },
   "file_extension": ".py",
   "mimetype": "text/x-python",
   "name": "python",
   "nbconvert_exporter": "python",
   "pygments_lexer": "ipython3",
   "version": "3.6.4"
  }
 },
 "nbformat": 4,
 "nbformat_minor": 2
}

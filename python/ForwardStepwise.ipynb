{
 "cells": [
  {
   "cell_type": "code",
   "execution_count": 1,
   "metadata": {},
   "outputs": [],
   "source": [
    "import numpy as np\n",
    "import matplotlib.pyplot as plt\n",
    "from   numpy.linalg import pinv\n",
    "from   sklearn import model_selection\n",
    "from   functools import partial\n",
    "\n",
    "%matplotlib inline"
   ]
  },
  {
   "cell_type": "code",
   "execution_count": 2,
   "metadata": {},
   "outputs": [],
   "source": [
    "plt.style.use(\"dark_background\")"
   ]
  },
  {
   "cell_type": "code",
   "execution_count": 8,
   "metadata": {},
   "outputs": [],
   "source": [
    "xx = np.loadtxt(\"./xx\", delimiter=\",\")\n",
    "xy = np.loadtxt(\"./xy\", delimiter=\",\")"
   ]
  },
  {
   "cell_type": "code",
   "execution_count": 12,
   "metadata": {},
   "outputs": [],
   "source": [
    "Q, R = np.linalg.qr(xx)"
   ]
  },
  {
   "cell_type": "code",
   "execution_count": 25,
   "metadata": {},
   "outputs": [
    {
     "data": {
      "text/plain": [
       "(array([4.02421418, 1.49231824, 1.20596231, 0.95547639, 0.00856053,\n",
       "        0.07831991, 0.66218558, 0.4336832 , 0.60271921, 0.53656046]),\n",
       " array([[-0.21643101, -0.04437151, -0.49466811,  0.4140095 ,  0.00326309,\n",
       "         -0.00810057, -0.68686389, -0.01493468, -0.2258505 ,  0.10953821],\n",
       "        [-0.18696711,  0.38654811,  0.10685833,  0.67986052,  0.00366069,\n",
       "          0.00210552,  0.37345612, -0.44293966,  0.04173103,  0.06760551],\n",
       "        [-0.3031625 ,  0.15628061, -0.1675317 , -0.49982533,  0.00824809,\n",
       "         -0.04237751,  0.12935936, -0.39294187, -0.4031419 ,  0.51985787],\n",
       "        [-0.2717397 ,  0.13825564, -0.51356804,  0.01966734, -0.00322111,\n",
       "         -0.0271941 ,  0.48689014,  0.47736435, -0.27276274, -0.32064908],\n",
       "        [-0.34325493, -0.57302669,  0.0685867 ,  0.06839533,  0.70977447,\n",
       "          0.04203984,  0.12917415, -0.12941351,  0.00540864, -0.07364908],\n",
       "        [-0.35186062, -0.45593985,  0.26969438,  0.16777384, -0.56319605,\n",
       "          0.35931549,  0.11673143,  0.19131121, -0.1332572 ,  0.23054011],\n",
       "        [ 0.28243639, -0.50624287, -0.38602787,  0.07602005, -0.31744413,\n",
       "         -0.48124771,  0.24499115, -0.32463641,  0.1063716 ,  0.00753445],\n",
       "        [-0.42883325,  0.06818423,  0.38068121, -0.0079212 , -0.09059464,\n",
       "         -0.77381656, -0.14364377,  0.18058834, -0.0339454 , -0.07123619],\n",
       "        [-0.37861731,  0.0261893 , -0.0636315 , -0.26442742, -0.26446735,\n",
       "          0.18945947, -0.1516611 , -0.44966002,  0.17873005, -0.64731345],\n",
       "        [-0.32218282,  0.0849466 , -0.27684271, -0.08708624,  0.0026109 ,\n",
       "          0.01527381,  0.03138792,  0.1666087 ,  0.80506447,  0.35727279]]))"
      ]
     },
     "execution_count": 25,
     "metadata": {},
     "output_type": "execute_result"
    }
   ],
   "source": [
    "np.linalg.eig( xx )"
   ]
  },
  {
   "cell_type": "code",
   "execution_count": null,
   "metadata": {},
   "outputs": [],
   "source": []
  }
 ],
 "metadata": {
  "kernelspec": {
   "display_name": "Python 2",
   "language": "python",
   "name": "python2"
  },
  "language_info": {
   "codemirror_mode": {
    "name": "ipython",
    "version": 2
   },
   "file_extension": ".py",
   "mimetype": "text/x-python",
   "name": "python",
   "nbconvert_exporter": "python",
   "pygments_lexer": "ipython2",
   "version": "2.7.15"
  }
 },
 "nbformat": 4,
 "nbformat_minor": 2
}
